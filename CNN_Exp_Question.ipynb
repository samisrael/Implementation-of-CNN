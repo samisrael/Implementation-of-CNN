{
  "cells": [
    {
      "cell_type": "markdown",
      "metadata": {
        "id": "iQjHqsmTAVLU"
      },
      "source": [
        "# Implementation of CNN\n",
        "\n",
        "Implement CNN to classify digits in MNIST to 99.5% accuracy or more by adding only a single convolutional layer and a single MaxPooling 2D layer to the model."
      ]
    },
    {
      "cell_type": "code",
      "execution_count": 1,
      "metadata": {
        "deletable": false,
        "editable": false,
        "id": "ZpztRwBouwYp",
        "tags": [
          "graded"
        ]
      },
      "outputs": [
        {
          "name": "stderr",
          "output_type": "stream",
          "text": [
            "2024-09-16 10:23:58.297576: I tensorflow/core/util/port.cc:153] oneDNN custom operations are on. You may see slightly different numerical results due to floating-point round-off errors from different computation orders. To turn them off, set the environment variable `TF_ENABLE_ONEDNN_OPTS=0`.\n",
            "2024-09-16 10:23:58.480529: E external/local_xla/xla/stream_executor/cuda/cuda_fft.cc:485] Unable to register cuFFT factory: Attempting to register factory for plugin cuFFT when one has already been registered\n",
            "2024-09-16 10:23:58.578313: E external/local_xla/xla/stream_executor/cuda/cuda_dnn.cc:8454] Unable to register cuDNN factory: Attempting to register factory for plugin cuDNN when one has already been registered\n",
            "2024-09-16 10:23:58.612152: E external/local_xla/xla/stream_executor/cuda/cuda_blas.cc:1452] Unable to register cuBLAS factory: Attempting to register factory for plugin cuBLAS when one has already been registered\n",
            "2024-09-16 10:23:58.757885: I tensorflow/core/platform/cpu_feature_guard.cc:210] This TensorFlow binary is optimized to use available CPU instructions in performance-critical operations.\n",
            "To enable the following instructions: AVX2 AVX_VNNI FMA, in other operations, rebuild TensorFlow with the appropriate compiler flags.\n",
            "2024-09-16 10:24:00.693861: W tensorflow/compiler/tf2tensorrt/utils/py_utils.cc:38] TF-TRT Warning: Could not find TensorRT\n"
          ]
        }
      ],
      "source": [
        "import numpy as np\n",
        "import tensorflow as tf"
      ]
    },
    {
      "cell_type": "markdown",
      "metadata": {
        "id": "2nXzJt54RlAw"
      },
      "source": [
        "## Load and inspect the data\n",
        "\n",
        "Begin by loading the data mnist.npz"
      ]
    },
    {
      "cell_type": "code",
      "execution_count": 4,
      "metadata": {
        "deletable": false,
        "editable": false,
        "id": "wAl2dJ3DRlAw",
        "tags": [
          "graded"
        ]
      },
      "outputs": [
        {
          "name": "stdout",
          "output_type": "stream",
          "text": [
            "Downloading data from https://storage.googleapis.com/tensorflow/tf-keras-datasets/mnist.npz\n",
            "\u001b[1m11490434/11490434\u001b[0m \u001b[32m━━━━━━━━━━━━━━━━━━━━\u001b[0m\u001b[37m\u001b[0m \u001b[1m5s\u001b[0m 0us/step\n",
            "training_images is of type <class 'numpy.ndarray'>.\n",
            "training_labels is of type <class 'numpy.ndarray'>\n",
            "\n",
            "There are 60000 examples with shape (28, 28)\n"
          ]
        }
      ],
      "source": [
        "# Provide path to get the full path\n",
        "data_path = 'mnist.npz'\n",
        "\n",
        "# Load data (discard test set)\n",
        "(training_images, training_labels), _ = tf.keras.datasets.mnist.load_data(path=data_path)\n",
        "\n",
        "print(f\"training_images is of type {type(training_images)}.\\ntraining_labels is of type {type(training_labels)}\\n\")\n",
        "\n",
        "# Inspect shape of the data\n",
        "data_shape = training_images.shape\n",
        "\n",
        "print(f\"There are {data_shape[0]} examples with shape ({data_shape[1]}, {data_shape[2]})\")"
      ]
    },
    {
      "cell_type": "markdown",
      "metadata": {
        "id": "x9BoBkTXRlAw"
      },
      "source": [
        "## Pre-processing the data\n",
        "\n",
        "One important step when dealing with image data is to preprocess the data. During the preprocess step you can apply transformations to the dataset that will be fed into your convolutional neural network."
      ]
    },
    {
      "cell_type": "markdown",
      "metadata": {
        "id": "3OkFczaJRlAx"
      },
      "source": [
        "\n",
        "## Part 1: reshape_and_normalize\n",
        "\n",
        "You will apply two transformations to the data:\n"
      ]
    },
    {
      "cell_type": "code",
      "execution_count": 5,
      "metadata": {
        "deletable": false,
        "id": "_cM8RESaRlAx",
        "tags": [
          "graded"
        ]
      },
      "outputs": [],
      "source": [
        "# reshape_and_normalize\n",
        "\n",
        "def reshape_and_normalize(images):\n",
        "    \"\"\"Reshapes the array of images and normalizes pixel values.\n",
        "\n",
        "    Args:\n",
        "        images (numpy.ndarray): The images encoded as numpy arrays\n",
        "\n",
        "    Returns:\n",
        "        numpy.ndarray: The reshaped and normalized images.\n",
        "    \"\"\"\n",
        "\n",
        "    ### START CODE HERE ###\n",
        "\n",
        "    # Reshape the images to add an extra dimension (at the right-most side of the array)\n",
        "    images = np.expand_dims(images, axis=-1)\n",
        "\n",
        "    # Normalize pixel values\n",
        "    images = images/255.0\n",
        "\n",
        "    ### END CODE HERE ###\n",
        "\n",
        "    return images"
      ]
    },
    {
      "cell_type": "markdown",
      "metadata": {
        "id": "T6OSWXHjRlAx"
      },
      "source": [
        "Test your function with the next cell:"
      ]
    },
    {
      "cell_type": "code",
      "execution_count": 10,
      "metadata": {
        "deletable": false,
        "editable": false,
        "id": "JMV2Dhg5RlAy",
        "tags": [
          "graded"
        ]
      },
      "outputs": [
        {
          "name": "stdout",
          "output_type": "stream",
          "text": [
            "Name:            RegisterNumber:          \n",
            "\n",
            "Maximum pixel value after normalization: 1.0\n",
            "\n",
            "Shape of training set after reshaping: (60000, 28, 28, 1)\n",
            "\n",
            "Shape of one image after reshaping: (28, 28, 1)\n"
          ]
        }
      ],
      "source": [
        "# Reload the images in case you run this cell multiple times\n",
        "(training_images, _), _ = tf.keras.datasets.mnist.load_data(path=data_path)\n",
        "\n",
        "# Apply your function\n",
        "training_images = reshape_and_normalize(training_images)\n",
        "print('Name:            RegisterNumber:          \\n')\n",
        "print(f\"Maximum pixel value after normalization: {np.max(training_images)}\\n\")\n",
        "print(f\"Shape of training set after reshaping: {training_images.shape}\\n\")\n",
        "print(f\"Shape of one image after reshaping: {training_images[0].shape}\")"
      ]
    },
    {
      "cell_type": "markdown",
      "metadata": {
        "id": "G3yWN6wuRlAy"
      },
      "source": [
        "## Part 2: EarlyStoppingCallback\n",
        "\n",
        "create your own custom callback. For this complete the `EarlyStoppingCallback` class and the `on_epoch_end` method in the cell below."
      ]
    },
    {
      "cell_type": "code",
      "execution_count": null,
      "metadata": {
        "deletable": false,
        "id": "tI3YGuCRRlAy",
        "tags": [
          "graded"
        ]
      },
      "outputs": [],
      "source": [
        "# EarlyStoppingCallback\n",
        "\n",
        "### START CODE HERE ###\n",
        "\n",
        "# Remember to inherit from the correct class\n",
        "class EarlyStoppingCallback():\n",
        "\n",
        "    # Define the correct function signature for on_epoch_end method\n",
        "    def None():\n",
        "\n",
        "        # Check if the accuracy is greater or equal to 0.995\n",
        "        if None >= None:\n",
        "\n",
        "            # Stop training once the above condition is met\n",
        "            None = None\n",
        "\n",
        "            print(\"\\nReached 99.5% accuracy so cancelling training!\\n\")\n",
        "            print('Name:            Register Number:         \\n')\n",
        "### END CODE HERE ###"
      ]
    },
    {
      "cell_type": "markdown",
      "metadata": {
        "id": "__m7bbRXRlAz"
      },
      "source": [
        "## Part 3: convolutional_model\n",
        "\n",
        "Complete the `convolutional_model` function below. This function should return your convolutional neural network.\n",
        "\n",
        "**Your model should achieve an accuracy of 99.5% or more before 10 epochs"
      ]
    },
    {
      "cell_type": "code",
      "execution_count": 6,
      "metadata": {
        "deletable": false,
        "id": "jgWf4I45RlAz",
        "tags": [
          "graded"
        ]
      },
      "outputs": [],
      "source": [
        "# convolutional_model\n",
        "\n",
        "def convolutional_model():\n",
        "    \"\"\"Returns the compiled (but untrained) convolutional model.\n",
        "\n",
        "    Returns:\n",
        "        tf.keras.Model: The model which should implement convolutions.\n",
        "    \"\"\"\n",
        "\n",
        "    ## START CODE HERE ###\n",
        "\n",
        "    # Define the model\n",
        "    model = tf.keras.models.Sequential([\n",
        "        tf.keras.Input(shape = (28, 28, 1)),\n",
        "        tf.keras.layers.Conv2D(32, (3,3), activation = 'relu'),\n",
        "        tf.keras.layers.MaxPooling2D(2,2),\n",
        "        tf.keras.layers.Conv2D(32, (3,3), activation='relu'),\n",
        "        tf.keras.layers.MaxPooling2D(2,2),  \n",
        "        tf.keras.layers.Flatten(),\n",
        "        tf.keras.layers.Dense(128, activation='relu'),\n",
        "        tf.keras.layers.Dense(10, activation='softmax')        \n",
        "    ]) \n",
        "\n",
        "    ### END CODE HERE ###\n",
        "\n",
        "    # Compile the model\n",
        "    model.compile(\n",
        "\t\toptimizer='adam',\n",
        "\t\tloss='sparse_categorical_crossentropy',\n",
        "\t\tmetrics=['accuracy']\n",
        "\t)\n",
        "\n",
        "    return model"
      ]
    },
    {
      "cell_type": "code",
      "execution_count": 8,
      "metadata": {
        "deletable": false,
        "editable": false,
        "id": "bLBElglURlAz"
      },
      "outputs": [],
      "source": [
        "# Define your compiled (but untrained) model\n",
        "model = convolutional_model()"
      ]
    },
    {
      "cell_type": "code",
      "execution_count": 7,
      "metadata": {},
      "outputs": [],
      "source": [
        "class EarlyStoppingCallback(tf.keras.callbacks.Callback):\n",
        "\n",
        "    # Define the correct function signature for on_epoch_end method\n",
        "    def on_epoch_end(self, epoch, logs=None):\n",
        "        \n",
        "        # Check if the accuracy is greater or equal to 0.995\n",
        "        if logs['accuracy'] >= 0.995:\n",
        "                            \n",
        "            # Stop training once the above condition is met\n",
        "            self.model.stop_training = True\n",
        "\n",
        "            print(\"\\nReached 99.5% accuracy so cancelling training!\") "
      ]
    },
    {
      "cell_type": "code",
      "execution_count": 11,
      "metadata": {
        "deletable": false,
        "editable": false,
        "id": "HOXi_gZyRlAz"
      },
      "outputs": [
        {
          "name": "stdout",
          "output_type": "stream",
          "text": [
            "Epoch 1/10\n",
            "\u001b[1m1875/1875\u001b[0m \u001b[32m━━━━━━━━━━━━━━━━━━━━\u001b[0m\u001b[37m\u001b[0m \u001b[1m22s\u001b[0m 11ms/step - accuracy: 0.8240 - loss: 0.5285\n",
            "Epoch 2/10\n",
            "\u001b[1m1875/1875\u001b[0m \u001b[32m━━━━━━━━━━━━━━━━━━━━\u001b[0m\u001b[37m\u001b[0m \u001b[1m23s\u001b[0m 12ms/step - accuracy: 0.9819 - loss: 0.0586\n",
            "Epoch 3/10\n",
            "\u001b[1m1875/1875\u001b[0m \u001b[32m━━━━━━━━━━━━━━━━━━━━\u001b[0m\u001b[37m\u001b[0m \u001b[1m19s\u001b[0m 10ms/step - accuracy: 0.9883 - loss: 0.0376\n",
            "Epoch 4/10\n",
            "\u001b[1m1875/1875\u001b[0m \u001b[32m━━━━━━━━━━━━━━━━━━━━\u001b[0m\u001b[37m\u001b[0m \u001b[1m20s\u001b[0m 10ms/step - accuracy: 0.9924 - loss: 0.0249\n",
            "Epoch 5/10\n",
            "\u001b[1m1875/1875\u001b[0m \u001b[32m━━━━━━━━━━━━━━━━━━━━\u001b[0m\u001b[37m\u001b[0m \u001b[1m19s\u001b[0m 10ms/step - accuracy: 0.9937 - loss: 0.0208\n",
            "Epoch 6/10\n",
            "\u001b[1m1875/1875\u001b[0m \u001b[32m━━━━━━━━━━━━━━━━━━━━\u001b[0m\u001b[37m\u001b[0m \u001b[1m19s\u001b[0m 10ms/step - accuracy: 0.9955 - loss: 0.0142\n",
            "Epoch 7/10\n",
            "\u001b[1m1875/1875\u001b[0m \u001b[32m━━━━━━━━━━━━━━━━━━━━\u001b[0m\u001b[37m\u001b[0m \u001b[1m0s\u001b[0m 10ms/step - accuracy: 0.9965 - loss: 0.0110\n",
            "Reached 99.5% accuracy so cancelling training!\n",
            "\u001b[1m1875/1875\u001b[0m \u001b[32m━━━━━━━━━━━━━━━━━━━━\u001b[0m\u001b[37m\u001b[0m \u001b[1m19s\u001b[0m 10ms/step - accuracy: 0.9965 - loss: 0.0110\n"
          ]
        }
      ],
      "source": [
        "# Train your model (this can take up to 5 minutes)\n",
        "training_history = model.fit(training_images, training_labels, epochs=10, callbacks=[EarlyStoppingCallback()])"
      ]
    },
    {
      "cell_type": "code",
      "execution_count": null,
      "metadata": {},
      "outputs": [],
      "source": []
    }
  ],
  "metadata": {
    "colab": {
      "provenance": []
    },
    "grader_version": "1",
    "kernelspec": {
      "display_name": "Python 3",
      "language": "python",
      "name": "python3"
    },
    "language_info": {
      "codemirror_mode": {
        "name": "ipython",
        "version": 3
      },
      "file_extension": ".py",
      "mimetype": "text/x-python",
      "name": "python",
      "nbconvert_exporter": "python",
      "pygments_lexer": "ipython3",
      "version": "3.10.12"
    }
  },
  "nbformat": 4,
  "nbformat_minor": 0
}
